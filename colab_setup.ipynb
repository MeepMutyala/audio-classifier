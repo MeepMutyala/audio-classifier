{
  "cells": [
    {
      "cell_type": "markdown",
      "metadata": {},
      "source": [
        "# Audio Classification Training on Colab\n",
        "\n",
        "This notebook sets up and runs training for Mamba, Liquid S4, and V-JEPA2 models on ESC-50 dataset.\n",
        "\n",
        "## Quick Start\n",
        "1. Enable GPU: Runtime → Change runtime type → GPU (T4 or V100)\n",
        "2. Run all cells below\n",
        "3. Choose which model to train (Mamba, Liquid S4, or V-JEPA2)\n"
      ]
    },
    {
      "cell_type": "code",
      "execution_count": null,
      "metadata": {},
      "outputs": [],
      "source": [
        "# Install required packages\n",
        "!pip install torch torchaudio librosa pandas numpy matplotlib seaborn scikit-learn tqdm wandb einops transformers\n",
        "\n",
        "# Check GPU availability\n",
        "import torch\n",
        "print(f\"CUDA available: {torch.cuda.is_available()}\")\n",
        "if torch.cuda.is_available():\n",
        "    print(f\"GPU: {torch.cuda.get_device_name(0)}\")\n",
        "    print(f\"GPU Memory: {torch.cuda.get_device_properties(0).total_memory / 1e9:.1f} GB\")\n",
        "else:\n",
        "    print(\"⚠️  No GPU detected! Please enable GPU: Runtime → Change runtime type → GPU\")\n"
      ]
    },
    {
      "cell_type": "code",
      "execution_count": null,
      "metadata": {},
      "outputs": [],
      "source": [
        "# Clone your repository (replace with your actual GitHub repo URL)\n",
        "# Option 1: Public repo (no authentication needed)\n",
        "!git clone https://github.com/YOUR_USERNAME/audio-classifier.git\n",
        "\n",
        "# Option 2: Private repo (requires GitHub token)\n",
        "# !git clone https://YOUR_GITHUB_TOKEN@github.com/YOUR_USERNAME/audio-classifier.git\n",
        "\n",
        "# Change to project directory\n",
        "import os\n",
        "os.chdir('audio-classifier')\n",
        "\n",
        "# Initialize git submodules (for external models)\n",
        "!git submodule update --init --recursive\n",
        "\n",
        "print(\"✅ Repository cloned and submodules initialized!\")\n"
      ]
    },
    {
      "cell_type": "code",
      "execution_count": null,
      "metadata": {},
      "outputs": [],
      "source": [
        "# Download ESC-50 dataset if not present\n",
        "import os\n",
        "if not os.path.exists('data/ESC-50'):\n",
        "    print(\"📥 Downloading ESC-50 dataset...\")\n",
        "    !mkdir -p data\n",
        "    !cd data && wget -q https://github.com/karolpiczak/ESC-50/archive/master.zip\n",
        "    !cd data && unzip -q master.zip && mv ESC-50-master ESC-50\n",
        "    !cd data && rm master.zip\n",
        "    print(\"✅ ESC-50 dataset downloaded successfully!\")\n",
        "else:\n",
        "    print(\"✅ ESC-50 dataset already exists!\")\n",
        "    \n",
        "# Check dataset\n",
        "import pandas as pd\n",
        "meta_df = pd.read_csv('data/ESC-50/meta/esc50.csv')\n",
        "print(f\"📊 Dataset info: {len(meta_df)} samples, {len(meta_df['category'].unique())} classes\")\n",
        "print(f\"🎵 Categories: {', '.join(meta_df['category'].unique()[:10])}...\")\n"
      ]
    },
    {
      "cell_type": "code",
      "execution_count": null,
      "metadata": {},
      "outputs": [],
      "source": [
        "# Test imports and model creation\n",
        "import sys\n",
        "sys.path.append('.')\n",
        "\n",
        "from src.models.mamba_audio import MambaAudioClassifier\n",
        "from src.models.liquidS4_audio import LiquidS4AudioClassifier\n",
        "from src.models.vjepa_audio import VJEPA2AudioClassifier\n",
        "from configs.model_configs import get_mamba_config, get_liquid_s4_config, get_vjepa2_config\n",
        "\n",
        "print(\"✅ All imports successful!\")\n",
        "\n",
        "# Test model creation\n",
        "device = 'cuda' if torch.cuda.is_available() else 'cpu'\n",
        "print(f\"🖥️  Using device: {device}\")\n",
        "\n",
        "# Test Mamba model\n",
        "print(\"\\n🧪 Testing Mamba model...\")\n",
        "mamba_config = get_mamba_config()\n",
        "mamba_model = MambaAudioClassifier(**mamba_config, device=device)\n",
        "mamba_params = sum(p.numel() for p in mamba_model.parameters())\n",
        "print(f\"   Mamba: {mamba_params:,} parameters\")\n",
        "\n",
        "# Test Liquid S4 model\n",
        "print(\"🧪 Testing Liquid S4 model...\")\n",
        "s4_config = get_liquid_s4_config()\n",
        "s4_model = LiquidS4AudioClassifier(**s4_config, device=device)\n",
        "s4_params = sum(p.numel() for p in s4_model.parameters())\n",
        "print(f\"   Liquid S4: {s4_params:,} parameters\")\n",
        "\n",
        "# Test V-JEPA2 model\n",
        "print(\"🧪 Testing V-JEPA2 model...\")\n",
        "vjepa_config = get_vjepa2_config()\n",
        "vjepa_model = VJEPA2AudioClassifier(**vjepa_config)\n",
        "vjepa_params = sum(p.numel() for p in vjepa_model.parameters())\n",
        "print(f\"   V-JEPA2: {vjepa_params:,} parameters\")\n",
        "\n",
        "print(\"\\n✅ All models created successfully!\")\n"
      ]
    },
    {
      "cell_type": "markdown",
      "metadata": {},
      "source": [
        "## 🚀 Training Options\n",
        "\n",
        "Choose which model to train by running one of the cells below:\n"
      ]
    },
    {
      "cell_type": "code",
      "execution_count": null,
      "metadata": {},
      "outputs": [],
      "source": [
        "# 🎯 Train Mamba Model (Recommended for Colab - fastest training)\n",
        "print(\"🚀 Starting Mamba training...\")\n",
        "!python scripts/cloud_train.py --model mamba --batch_size 16 --epochs 50 --lr 0.001\n",
        "\n",
        "print(\"✅ Mamba training completed!\")\n"
      ]
    },
    {
      "cell_type": "code",
      "execution_count": null,
      "metadata": {},
      "outputs": [],
      "source": [
        "# 🎯 Train Liquid S4 Model\n",
        "print(\"🚀 Starting Liquid S4 training...\")\n",
        "!python scripts/cloud_train.py --model liquid_s4 --batch_size 16 --epochs 50 --lr 0.001\n",
        "\n",
        "print(\"✅ Liquid S4 training completed!\")\n"
      ]
    },
    {
      "cell_type": "code",
      "execution_count": null,
      "metadata": {},
      "outputs": [],
      "source": [
        "# 🎯 Train V-JEPA2 Model (May require more memory)\n",
        "print(\"🚀 Starting V-JEPA2 training...\")\n",
        "!python scripts/cloud_train.py --model vjepa2 --batch_size 8 --epochs 50 --lr 0.001\n",
        "\n",
        "print(\"✅ V-JEPA2 training completed!\")\n"
      ]
    },
    {
      "cell_type": "code",
      "execution_count": null,
      "metadata": {},
      "outputs": [],
      "source": [
        "# 📥 Download trained models and results\n",
        "from google.colab import files\n",
        "import os\n",
        "\n",
        "print(\"📦 Preparing downloads...\")\n",
        "\n",
        "# Download checkpoints\n",
        "if os.path.exists('checkpoints'):\n",
        "    print(\"📁 Zipping checkpoints...\")\n",
        "    !zip -r checkpoints.zip checkpoints/\n",
        "    files.download('checkpoints.zip')\n",
        "    print(\"✅ Checkpoints downloaded!\")\n",
        "\n",
        "# Download results/logs if they exist\n",
        "if os.path.exists('results'):\n",
        "    print(\"📁 Zipping results...\")\n",
        "    !zip -r results.zip results/\n",
        "    files.download('results.zip')\n",
        "    print(\"✅ Results downloaded!\")\n",
        "\n",
        "print(\"🎉 All downloads completed!\")\n"
      ]
    }
  ],
  "metadata": {
    "language_info": {
      "name": "python"
    }
  },
  "nbformat": 4,
  "nbformat_minor": 2
}
