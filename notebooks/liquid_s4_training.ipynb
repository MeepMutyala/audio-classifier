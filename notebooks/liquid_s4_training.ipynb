{
  "cells": [
    {
      "cell_type": "markdown",
      "metadata": {},
      "source": [
        "# Liquid S4 Audio Classification Training\n",
        "\n",
        "This notebook trains a Liquid S4 model on the ESC-50 audio classification dataset.\n",
        "\n",
        "## Setup and Installation\n"
      ]
    },
    {
      "cell_type": "code",
      "execution_count": null,
      "metadata": {},
      "outputs": [],
      "source": [
        "# Clone the repository and setup\n",
        "!git clone https://github.com/your-username/audio-classifier.git\n",
        "!cd audio-classifier && git checkout main\n",
        "\n",
        "# Install required packages\n",
        "!pip install torch torchvision torchaudio --index-url https://download.pytorch.org/whl/cu121\n",
        "!pip install librosa pandas tqdm\n",
        "\n",
        "print(\"✅ Repository cloned and packages installed successfully!\")\n"
      ]
    },
    {
      "cell_type": "code",
      "execution_count": null,
      "metadata": {},
      "outputs": [],
      "source": [
        "# Setup repository and change directory\n",
        "import os\n",
        "os.chdir('/kaggle/working/audio-classifier')\n",
        "print(f\"Changed to directory: {os.getcwd()}\")\n",
        "print(\"✅ Repository setup complete!\")\n"
      ]
    },
    {
      "cell_type": "markdown",
      "metadata": {},
      "source": [
        "## Import Libraries and Setup\n"
      ]
    },
    {
      "cell_type": "code",
      "execution_count": null,
      "metadata": {},
      "outputs": [],
      "source": [
        "import torch\n",
        "import torch.nn as nn\n",
        "import sys\n",
        "import os\n",
        "from pathlib import Path\n",
        "import pandas as pd\n",
        "\n",
        "# Add the liquid-S4 src to Python path\n",
        "liquid_s4_src = Path('/kaggle/working/audio-classifier/external_models/liquid-S4/src')\n",
        "if liquid_s4_src.exists() and str(liquid_s4_src) not in sys.path:\n",
        "    sys.path.insert(0, str(liquid_s4_src))\n",
        "    print(f\"Added to sys.path: {liquid_s4_src}\")\n",
        "\n",
        "# Debug: Check if models directory exists\n",
        "models_dir = liquid_s4_src / 'models'\n",
        "print(f\"Models directory exists: {models_dir.exists()}\")\n",
        "if models_dir.exists():\n",
        "    print(f\"Models directory contents: {list(models_dir.iterdir())}\")\n",
        "\n",
        "# Import shared utilities\n",
        "sys.path.append('/kaggle/working/audio-classifier/notebooks')\n",
        "from shared_utils import create_dataloaders, AudioTrainer\n",
        "\n",
        "# Import the Liquid S4 model\n",
        "try:\n",
        "    from models.liquidS4_audio import LiquidS4AudioClassifier\n",
        "    print(\"✅ Liquid S4 model imported successfully!\")\n",
        "except ImportError as e:\n",
        "    print(f\"❌ Import error: {e}\")\n",
        "    print(\"Trying alternative import...\")\n",
        "    # Try direct import\n",
        "    import importlib.util\n",
        "    spec = importlib.util.spec_from_file_location(\n",
        "        \"liquidS4_audio\", \n",
        "        liquid_s4_src / \"models\" / \"liquidS4_audio.py\"\n",
        "    )\n",
        "    liquidS4_module = importlib.util.module_from_spec(spec)\n",
        "    spec.loader.exec_module(liquidS4_module)\n",
        "    LiquidS4AudioClassifier = liquidS4_module.LiquidS4AudioClassifier\n",
        "    print(\"✅ Liquid S4 model imported via direct file import!\")\n",
        "\n",
        "print(\"✅ All imports successful!\")\n",
        "print(f\"PyTorch version: {torch.__version__}\")\n",
        "print(f\"CUDA available: {torch.cuda.is_available()}\")\n",
        "if torch.cuda.is_available():\n",
        "    print(f\"CUDA device: {torch.cuda.get_device_name(0)}\")\n",
        "print(f\"Working directory: {os.getcwd()}\")\n"
      ]
    },
    {
      "cell_type": "markdown",
      "metadata": {},
      "source": [
        "## Dataset Setup\n"
      ]
    },
    {
      "cell_type": "code",
      "execution_count": null,
      "metadata": {},
      "outputs": [],
      "source": [
        "# Setup dataset path\n",
        "esc50_path = '/kaggle/working/audio-classifier/data/ESC-50'\n",
        "\n",
        "# Check if dataset exists\n",
        "if not Path(esc50_path).exists():\n",
        "    print(\"❌ ESC-50 dataset not found! Please ensure the dataset is in the correct location.\")\n",
        "    print(f\"Expected path: {esc50_path}\")\n",
        "else:\n",
        "    print(\"✅ ESC-50 dataset found!\")\n",
        "    \n",
        "    # Create data loaders\n",
        "    train_loader, val_loader, test_loader, num_classes = create_dataloaders(\n",
        "        esc50_path=esc50_path,\n",
        "        model_type='sequence',  # Liquid S4 uses sequence format\n",
        "        batch_size=16,  # Smaller batch size for memory efficiency\n",
        "        num_workers=2,\n",
        "        augment=True,\n",
        "        augment_factor=2\n",
        "    )\n",
        "    \n",
        "    print(f\"✅ Data loaders created!\")\n",
        "    print(f\"Number of classes: {num_classes}\")\n",
        "    print(f\"Train batches: {len(train_loader)}\")\n",
        "    print(f\"Val batches: {len(val_loader)}\")\n",
        "    print(f\"Test batches: {len(test_loader)}\")\n"
      ]
    },
    {
      "cell_type": "markdown",
      "metadata": {},
      "source": [
        "## Model Setup\n"
      ]
    },
    {
      "cell_type": "code",
      "execution_count": null,
      "metadata": {},
      "outputs": [],
      "source": [
        "# Model configuration\n",
        "config = {\n",
        "    'n_mels': 128,\n",
        "    'num_classes': num_classes,\n",
        "    'd_model': 64,   # Standard for S4 models\n",
        "    'n_layers': 6,   # S4 models are efficient with fewer layers\n",
        "    'd_state': 64,   # Standard state dimension\n",
        "    'l_max': None,   # Auto-adapt to sequence length\n",
        "    'dropout': 0.1   # Prevents overfitting\n",
        "}\n",
        "\n",
        "# Create model\n",
        "device = torch.device('cuda' if torch.cuda.is_available() else 'cpu')\n",
        "model = LiquidS4AudioClassifier(**config, device=device)\n",
        "\n",
        "print(f\"✅ Model created on {device}\")\n",
        "print(f\"Model parameters: {sum(p.numel() for p in model.parameters()):,}\")\n",
        "\n",
        "# Test model with a sample batch\n",
        "model.eval()\n",
        "with torch.no_grad():\n",
        "    sample_batch = next(iter(train_loader))\n",
        "    sample_data, sample_target = sample_batch\n",
        "    sample_data = sample_data.to(device)\n",
        "    \n",
        "    output = model(sample_data)\n",
        "    print(f\"✅ Model test successful!\")\n",
        "    print(f\"Input shape: {sample_data.shape}\")\n",
        "    print(f\"Output shape: {output.shape}\")\n"
      ]
    },
    {
      "cell_type": "markdown",
      "metadata": {},
      "source": [
        "## Training\n"
      ]
    },
    {
      "cell_type": "code",
      "execution_count": null,
      "metadata": {},
      "outputs": [],
      "source": [
        "# Training configuration\n",
        "training_config = {\n",
        "    'epochs': 50,\n",
        "    'lr': 0.001,\n",
        "    'save_path': '/kaggle/working/liquid_s4_best.pth'\n",
        "}\n",
        "\n",
        "# Create trainer\n",
        "trainer = AudioTrainer(model, train_loader, val_loader, device=device)\n",
        "\n",
        "print(\"🚀 Starting Liquid S4 training...\")\n",
        "print(f\"Expected time: 2-3 hours\")\n",
        "print(f\"GPU memory usage: ~8GB\")\n",
        "print(\"\\n\" + \"=\"*50)\n",
        "\n",
        "# Start training\n",
        "trainer.train(\n",
        "    epochs=training_config['epochs'],\n",
        "    lr=training_config['lr'],\n",
        "    save_path=training_config['save_path']\n",
        ")\n",
        "\n",
        "print(\"\\n\" + \"=\"*50)\n",
        "print(\"✅ Liquid S4 training completed!\")\n",
        "print(f\"Best model saved to: {training_config['save_path']}\")\n"
      ]
    },
    {
      "cell_type": "markdown",
      "metadata": {},
      "source": [
        "## Testing\n"
      ]
    },
    {
      "cell_type": "code",
      "execution_count": null,
      "metadata": {},
      "outputs": [],
      "source": [
        "# Load best model and test\n",
        "if Path(training_config['save_path']).exists():\n",
        "    model.load_state_dict(torch.load(training_config['save_path'], map_location=device))\n",
        "    print(\"✅ Best model loaded for testing\")\n",
        "    \n",
        "    # Test on test set\n",
        "    model.eval()\n",
        "    correct = 0\n",
        "    total = 0\n",
        "    \n",
        "    with torch.no_grad():\n",
        "        for data, target in test_loader:\n",
        "            data, target = data.to(device), target.to(device)\n",
        "            output = model(data)\n",
        "            _, predicted = output.max(1)\n",
        "            total += target.size(0)\n",
        "            correct += predicted.eq(target).sum().item()\n",
        "    \n",
        "    test_accuracy = 100. * correct / total\n",
        "    print(f\"🎯 Test Accuracy: {test_accuracy:.2f}%\")\n",
        "else:\n",
        "    print(\"❌ No saved model found for testing\")\n"
      ]
    },
    {
      "cell_type": "markdown",
      "metadata": {},
      "source": [
        "## Results Summary\n"
      ]
    },
    {
      "cell_type": "code",
      "execution_count": null,
      "metadata": {},
      "outputs": [],
      "source": [
        "print(\"📊 Liquid S4 Training Results Summary\")\n",
        "print(\"=\"*50)\n",
        "print(f\"Model: Liquid S4 Audio Classifier\")\n",
        "print(f\"Dataset: ESC-50\")\n",
        "print(f\"Parameters: {sum(p.numel() for p in model.parameters()):,}\")\n",
        "print(f\"Training epochs: {training_config['epochs']}\")\n",
        "print(f\"Learning rate: {training_config['lr']}\")\n",
        "print(f\"Batch size: {train_loader.batch_size}\")\n",
        "if 'test_accuracy' in locals():\n",
        "    print(f\"Test accuracy: {test_accuracy:.2f}%\")\n",
        "print(f\"Model saved to: {training_config['save_path']}\")\n",
        "print(\"\\n✅ Training completed successfully!\")\n"
      ]
    }
  ],
  "metadata": {
    "language_info": {
      "name": "python"
    }
  },
  "nbformat": 4,
  "nbformat_minor": 2
}
